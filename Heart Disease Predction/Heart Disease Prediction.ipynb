{
 "cells": [
  {
   "cell_type": "markdown",
   "id": "80aea3ca",
   "metadata": {},
   "source": [
    "# Heart Disease Prediction"
   ]
  },
  {
   "cell_type": "markdown",
   "id": "a63097c4",
   "metadata": {},
   "source": [
    "Classification model based on XGBoost ensemble technique "
   ]
  },
  {
   "cell_type": "code",
   "execution_count": null,
   "id": "facfedb7",
   "metadata": {},
   "outputs": [
    {
     "ename": "",
     "evalue": "",
     "output_type": "error",
     "traceback": [
      "\u001b[1;31mRunning cells with '.env (Python 3.12.10)' requires the ipykernel package.\n",
      "\u001b[1;31mInstall 'ipykernel' into the Python environment. \n",
      "\u001b[1;31mCommand: '\"e:/COLLEGE/Semester-5/AML/Labs/Heart Disease Predction/.env/Scripts/python.exe\" -m pip install ipykernel -U --force-reinstall'"
     ]
    }
   ],
   "source": [
    "# necessary libraries\n",
    "import pandas as pd\n",
    "from sklearn.preprocessing import StandardScaler\n",
    "from sklearn.model_selection import train_test_split\n",
    "from xgboost import XGBClassifier\n",
    "from sklearn.metrics import accuracy_score, confusion_matrix, classification_report"
   ]
  },
  {
   "cell_type": "code",
   "execution_count": null,
   "id": "afcbf9a4",
   "metadata": {},
   "outputs": [],
   "source": [
    "df = pd.read_csv('Dataset/heart_cleveland_upload.csv')\n",
    "df.head(5)"
   ]
  },
  {
   "cell_type": "markdown",
   "id": "6d9f44b2",
   "metadata": {},
   "source": [
    "### Data Preprocesssing"
   ]
  },
  {
   "cell_type": "code",
   "execution_count": null,
   "id": "c6d18141",
   "metadata": {},
   "outputs": [],
   "source": [
    "# Seperating feature variable(X) and target variable(y)\n",
    "X=df.drop(\"target\", axis=1)\n",
    "y=df[\"target\"]\n",
    "\n",
    "# Split training and testing datasets\n",
    "X_train, X_test, y_train, y_test = train_test_split(\n",
    "    X,y, test_size=0.2, random_state=42, stratify=y\n",
    ")"
   ]
  },
  {
   "cell_type": "markdown",
   "id": "34d830b8",
   "metadata": {},
   "source": [
    "Feature Scaling"
   ]
  },
  {
   "cell_type": "code",
   "execution_count": null,
   "id": "f7e12184",
   "metadata": {},
   "outputs": [],
   "source": [
    "# StandardScaler is used for scaling\n",
    "scaler = StandardScaler()\n",
    "X_train = scaler.fit_transform(X_train)\n",
    "X_test = scaler.transform(X_test)"
   ]
  },
  {
   "cell_type": "markdown",
   "id": "b969f6d6",
   "metadata": {},
   "source": [
    "### Building the XGBoost Model"
   ]
  },
  {
   "cell_type": "code",
   "execution_count": null,
   "id": "7cebb948",
   "metadata": {},
   "outputs": [],
   "source": [
    "model = XGBClassifier(\n",
    "    n_estimators=100,\n",
    "    learning_rate=0.1,\n",
    "    max_depth=4,\n",
    "    random_state=42,\n",
    "    eval_metric='logloss'\n",
    ")\n",
    "model.fit(X_train, y_train)"
   ]
  },
  {
   "cell_type": "markdown",
   "id": "15d9544d",
   "metadata": {},
   "source": [
    "### Prediction & Evaluation"
   ]
  },
  {
   "cell_type": "code",
   "execution_count": null,
   "id": "a14d9bac",
   "metadata": {},
   "outputs": [],
   "source": [
    "y_pred = model.predict(X_test)"
   ]
  },
  {
   "cell_type": "code",
   "execution_count": null,
   "id": "9b1cd165",
   "metadata": {},
   "outputs": [],
   "source": [
    "#Performance evaluation\n",
    "accuracy = accuracy_score(y_test, y_pred)\n",
    "print(f'Model Accuracy: {accuracy*100:.2f}%  \\n')\n",
    "print(confusion_matrix(y_test, y_pred))\n",
    "print(classification_report(y_test, y_pred))"
   ]
  }
 ],
 "metadata": {
  "kernelspec": {
   "display_name": ".env",
   "language": "python",
   "name": "python3"
  },
  "language_info": {
   "name": "python",
   "version": "3.12.10"
  }
 },
 "nbformat": 4,
 "nbformat_minor": 5
}
