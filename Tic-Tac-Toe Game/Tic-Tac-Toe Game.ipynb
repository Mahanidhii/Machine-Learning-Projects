{
 "cells": [
  {
   "cell_type": "markdown",
   "id": "cd41fd5c",
   "metadata": {},
   "source": [
    "# Tic-Tac-Toe Game"
   ]
  },
  {
   "cell_type": "markdown",
   "id": "082e1b8f",
   "metadata": {},
   "source": []
  },
  {
   "cell_type": "code",
   "execution_count": null,
   "id": "dee0b460",
   "metadata": {
    "vscode": {
     "languageId": "plaintext"
    }
   },
   "outputs": [],
   "source": [
    "\n"
   ]
  }
 ],
 "metadata": {
  "language_info": {
   "name": "python"
  }
 },
 "nbformat": 4,
 "nbformat_minor": 5
}
